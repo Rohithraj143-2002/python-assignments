{
 "cells": [
  {
   "cell_type": "code",
   "execution_count": 1,
   "id": "2bf42f3a-2f44-4648-9fbd-291a0660a3f3",
   "metadata": {},
   "outputs": [
    {
     "name": "stdin",
     "output_type": "stream",
     "text": [
      "Enter the file name to read:  sample.txt\n"
     ]
    },
    {
     "name": "stdout",
     "output_type": "stream",
     "text": [
      "\n",
      "File Content:\n",
      "Hello, this is a test file for Python programming exercises.\n",
      "It contains some text that will be used for testing.\n",
      "Python is an amazing language to learn.\n",
      "\n"
     ]
    }
   ],
   "source": [
    "def read_file():\n",
    "    filename = input(\"Enter the file name to read: \")\n",
    "    try:\n",
    "        with open(filename, 'r') as file:\n",
    "            content = file.read()\n",
    "            print(\"\\nFile Content:\")\n",
    "            print(content)\n",
    "    except FileNotFoundError:\n",
    "        print(f\"Error: The file '{filename}' does not exist.\")\n",
    "\n",
    "if __name__ == \"__main__\":\n",
    "    read_file()\n"
   ]
  },
  {
   "cell_type": "code",
   "execution_count": 3,
   "id": "515012c8-15ac-4018-9d42-3f9ff164b929",
   "metadata": {},
   "outputs": [
    {
     "name": "stdin",
     "output_type": "stream",
     "text": [
      "Enter the source file name to copy from:  sample.txt\n",
      "Enter the destination file name to copy to:  sample_output.txt\n"
     ]
    },
    {
     "name": "stdout",
     "output_type": "stream",
     "text": [
      "\n",
      "Content successfully copied from sample.txt to sample_output.txt.\n"
     ]
    }
   ],
   "source": [
    "def copy_file():\n",
    "    source_file = input(\"Enter the source file name to copy from: \")\n",
    "    destination_file = input(\"Enter the destination file name to copy to: \")\n",
    "    try:\n",
    "        with open(source_file, 'r') as src:\n",
    "            content = src.read()\n",
    "        with open(destination_file, 'w') as dest:\n",
    "            dest.write(content)\n",
    "        print(f\"\\nContent successfully copied from {source_file} to {destination_file}.\")\n",
    "    except FileNotFoundError:\n",
    "        print(f\"Error: The file '{source_file}' does not exist.\")\n",
    "\n",
    "if __name__ == \"__main__\":\n",
    "    copy_file()\n"
   ]
  },
  {
   "cell_type": "code",
   "execution_count": 6,
   "id": "3331c8c9-61ce-4687-8015-f40c2961868c",
   "metadata": {},
   "outputs": [
    {
     "name": "stdin",
     "output_type": "stream",
     "text": [
      "Enter the file name to count words:  sample.txt\n"
     ]
    },
    {
     "name": "stdout",
     "output_type": "stream",
     "text": [
      "\n",
      "Total number of words in the file: 27\n"
     ]
    }
   ],
   "source": [
    "def count_words_in_file():\n",
    "    filename = input(\"Enter the file name to count words: \")\n",
    "    try:\n",
    "        with open(filename, 'r') as file:\n",
    "            content = file.read()\n",
    "            words = content.split()\n",
    "            print(f\"\\nTotal number of words in the file: {len(words)}\")\n",
    "    except FileNotFoundError:\n",
    "        print(f\"Error: The file '{filename}' does not exist.\")\n",
    "\n",
    "if __name__ == \"__main__\":\n",
    "    count_words_in_file()\n"
   ]
  },
  {
   "cell_type": "code",
   "execution_count": 11,
   "id": "e52a6e15-b975-4f48-8b97-630aafec9248",
   "metadata": {},
   "outputs": [
    {
     "name": "stdin",
     "output_type": "stream",
     "text": [
      "Enter a string to convert to an integer:  123\n"
     ]
    },
    {
     "name": "stdout",
     "output_type": "stream",
     "text": [
      "Converted integer: 123\n"
     ]
    }
   ],
   "source": [
    "def convert_to_integer():\n",
    "    user_input = input(\"Enter a string to convert to an integer: \")\n",
    "    try:\n",
    "        converted_integer = int(user_input)\n",
    "        print(f\"Converted integer: {converted_integer}\")\n",
    "    except ValueError:\n",
    "        print(\"Error: Invalid input. Could not convert to integer.\")\n",
    "\n",
    "if __name__ == \"__main__\":\n",
    "    convert_to_integer()\n"
   ]
  },
  {
   "cell_type": "code",
   "execution_count": 12,
   "id": "67162ac6-a0c3-470f-b7a3-d1ecc14629ca",
   "metadata": {},
   "outputs": [
    {
     "name": "stdin",
     "output_type": "stream",
     "text": [
      "Enter a list of integers (comma-separated):  1,2,-3,4\n"
     ]
    },
    {
     "name": "stdout",
     "output_type": "stream",
     "text": [
      "Error: Negative integer found in the list.\n"
     ]
    }
   ],
   "source": [
    "def check_negative_integers():\n",
    "    try:\n",
    "        user_input = input(\"Enter a list of integers (comma-separated): \")\n",
    "        int_list = [int(i) for i in user_input.split(',')]\n",
    "        for num in int_list:\n",
    "            if num < 0:\n",
    "                raise ValueError(\"Negative integer found in the list.\")\n",
    "        print(\"All integers are non-negative.\")\n",
    "    except ValueError as ve:\n",
    "        print(f\"Error: {ve}\")\n",
    "    except Exception as e:\n",
    "        print(f\"Error: {e}\")\n",
    "\n",
    "if __name__ == \"__main__\":\n",
    "    check_negative_integers()\n"
   ]
  },
  {
   "cell_type": "code",
   "execution_count": 13,
   "id": "97793c3d-1a49-46e3-a7b3-c56c3bbf00af",
   "metadata": {},
   "outputs": [
    {
     "name": "stdin",
     "output_type": "stream",
     "text": [
      "Enter a list of integers (comma-separated):  5,10,15\n"
     ]
    },
    {
     "name": "stdout",
     "output_type": "stream",
     "text": [
      "\n",
      "Average of the integers: 10.0\n",
      "Program execution finished.\n"
     ]
    }
   ],
   "source": [
    "def compute_average():\n",
    "    try:\n",
    "        user_input = input(\"Enter a list of integers (comma-separated): \")\n",
    "        int_list = [int(i) for i in user_input.split(',')]\n",
    "        if len(int_list) == 0:\n",
    "            raise ValueError(\"The list cannot be empty.\")\n",
    "        average = sum(int_list) / len(int_list)\n",
    "        print(f\"\\nAverage of the integers: {average}\")\n",
    "    except ValueError as ve:\n",
    "        print(f\"Error: {ve}\")\n",
    "    except Exception as e:\n",
    "        print(f\"Error: {e}\")\n",
    "    finally:\n",
    "        print(\"Program execution finished.\")\n",
    "\n",
    "if __name__ == \"__main__\":\n",
    "    compute_average()\n"
   ]
  },
  {
   "cell_type": "code",
   "execution_count": 15,
   "id": "29f7582e-c10d-4dd1-862b-f7f16cabf450",
   "metadata": {},
   "outputs": [
    {
     "name": "stdin",
     "output_type": "stream",
     "text": [
      "Enter the filename to write to:  sample.txt\n"
     ]
    },
    {
     "name": "stdout",
     "output_type": "stream",
     "text": [
      "\n",
      "Content written to sample.txt successfully. Welcome message added.\n",
      "Welcome! No exception occurred while writing to the file.\n"
     ]
    }
   ],
   "source": [
    "def write_to_file():\n",
    "    filename = input(\"Enter the filename to write to: \")\n",
    "    try:\n",
    "        with open(filename, 'w') as file:\n",
    "            content = \"Welcome to Python programming!\"\n",
    "            file.write(content)\n",
    "        print(f\"\\nContent written to {filename} successfully. Welcome message added.\")\n",
    "    except Exception as e:\n",
    "        print(f\"Error: {e}\")\n",
    "    else:\n",
    "        print(\"Welcome! No exception occurred while writing to the file.\")\n",
    "\n",
    "if __name__ == \"__main__\":\n",
    "    write_to_file()\n"
   ]
  },
  {
   "cell_type": "code",
   "execution_count": null,
   "id": "fadaa3bd-aed2-4a63-8fca-f972b59274bf",
   "metadata": {},
   "outputs": [],
   "source": []
  }
 ],
 "metadata": {
  "kernelspec": {
   "display_name": "anaconda-2024.02-py310",
   "language": "python",
   "name": "conda-env-anaconda-2024.02-py310-py"
  },
  "language_info": {
   "codemirror_mode": {
    "name": "ipython",
    "version": 3
   },
   "file_extension": ".py",
   "mimetype": "text/x-python",
   "name": "python",
   "nbconvert_exporter": "python",
   "pygments_lexer": "ipython3",
   "version": "3.10.14"
  }
 },
 "nbformat": 4,
 "nbformat_minor": 5
}
